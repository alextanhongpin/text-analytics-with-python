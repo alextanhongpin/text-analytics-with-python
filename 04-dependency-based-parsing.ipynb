{
 "cells": [
  {
   "cell_type": "code",
   "execution_count": 8,
   "metadata": {},
   "outputs": [],
   "source": [
    "import nltk\n",
    "import spacy\n",
    "\n",
    "nlp = spacy.load(\"en_core_web_sm\")"
   ]
  },
  {
   "cell_type": "code",
   "execution_count": 2,
   "metadata": {},
   "outputs": [],
   "source": [
    "sentence = 'The brown fox is quick and he is jumping over the lazy dog'"
   ]
  },
  {
   "cell_type": "code",
   "execution_count": 9,
   "metadata": {},
   "outputs": [
    {
     "data": {
      "text/plain": [
       "The brown fox is quick and he is jumping over the lazy dog"
      ]
     },
     "execution_count": 9,
     "metadata": {},
     "output_type": "execute_result"
    }
   ],
   "source": [
    "parsed_sent = nlp(sentence)\n",
    "parsed_sent"
   ]
  },
  {
   "cell_type": "code",
   "execution_count": 10,
   "metadata": {},
   "outputs": [
    {
     "name": "stdout",
     "output_type": "stream",
     "text": [
      "[]<---The[det]--->[]\n",
      "------\n",
      "[]<---brown[amod]--->[]\n",
      "------\n",
      "['The', 'brown']<---fox[nsubj]--->[]\n",
      "------\n",
      "['fox']<---is[ROOT]--->['quick', 'and', 'jumping']\n",
      "------\n",
      "[]<---quick[acomp]--->[]\n",
      "------\n",
      "[]<---and[cc]--->[]\n",
      "------\n",
      "[]<---he[nsubj]--->[]\n",
      "------\n",
      "[]<---is[aux]--->[]\n",
      "------\n",
      "['he', 'is']<---jumping[conj]--->['over']\n",
      "------\n",
      "[]<---over[prep]--->['dog']\n",
      "------\n",
      "[]<---the[det]--->[]\n",
      "------\n",
      "[]<---lazy[amod]--->[]\n",
      "------\n",
      "['the', 'lazy']<---dog[pobj]--->[]\n",
      "------\n"
     ]
    }
   ],
   "source": [
    "dependency_pattern = '{left}<---{word}[{w_type}]--->{right}\\n------'\n",
    "\n",
    "for token in parsed_sent:\n",
    "    print(dependency_pattern.format(word=token.orth_, \n",
    "                                    w_type=token.dep_,\n",
    "                                    left=[t.orth_ \n",
    "                                          for t in token.lefts],\n",
    "                                    right=[t.orth_\n",
    "                                           for t in token.rights]))"
   ]
  },
  {
   "cell_type": "code",
   "execution_count": 31,
   "metadata": {},
   "outputs": [
    {
     "name": "stdout",
     "output_type": "stream",
     "text": [
      "Requirement already up-to-date: nltk in /usr/local/lib/python3.7/site-packages (3.4.5)\n",
      "Requirement already satisfied, skipping upgrade: six in /usr/local/Cellar/ipython/7.8.0/libexec/vendor/lib/python3.7/site-packages (from nltk) (1.12.0)\n",
      "  % Total    % Received % Xferd  Average Speed   Time    Time     Time  Current\n",
      "                                 Dload  Upload   Total   Spent    Left  Speed\n",
      "100  371M  100  371M    0     0   974k      0  0:06:31  0:06:31 --:--:-- 1379k 960k      0  0:06:36  0:00:40  0:05:56  725k 832k      0  0:07:37  0:01:18  0:06:19  425k08:11  0:01:44  0:06:27  737k    0  0:08:21  0:01:51  0:06:30  559k4k      0  0:07:47  0:02:11  0:05:36  915k  747k      0  0:08:29  0:02:55  0:05:34  479k 0  0:08:34  0:03:08  0:05:26  751k0:04:29  0:03:48 1688k  0   785k      0  0:08:05  0:04:33  0:03:32 2143k0:06:42  0:05:20  0:01:22  749k   0   938k      0  0:06:45  0:05:37  0:01:08  713k    0   935k      0  0:06:47  0:05:38  0:01:09  564k   930k      0  0:06:49  0:05:47  0:01:02  803k6:32  0:06:20  0:00:12 1595k\n",
      "Archive:  stanford-corenlp-full-2018-02-27.zip\n",
      "   creating: stanford-corenlp-full-2018-02-27/\n",
      "  inflating: stanford-corenlp-full-2018-02-27/xom-1.2.10-src.jar  \n",
      "  inflating: stanford-corenlp-full-2018-02-27/CoreNLP-to-HTML.xsl  \n",
      "  inflating: stanford-corenlp-full-2018-02-27/README.txt  \n",
      "  inflating: stanford-corenlp-full-2018-02-27/jollyday-0.4.9-sources.jar  \n",
      "  inflating: stanford-corenlp-full-2018-02-27/LIBRARY-LICENSES  \n",
      "   creating: stanford-corenlp-full-2018-02-27/sutime/\n",
      "  inflating: stanford-corenlp-full-2018-02-27/sutime/british.sutime.txt  \n",
      "  inflating: stanford-corenlp-full-2018-02-27/sutime/defs.sutime.txt  \n",
      "  inflating: stanford-corenlp-full-2018-02-27/sutime/spanish.sutime.txt  \n",
      "  inflating: stanford-corenlp-full-2018-02-27/sutime/english.sutime.txt  \n",
      "  inflating: stanford-corenlp-full-2018-02-27/sutime/english.holidays.sutime.txt  \n",
      " extracting: stanford-corenlp-full-2018-02-27/ejml-0.23-src.zip  \n",
      "  inflating: stanford-corenlp-full-2018-02-27/stanford-corenlp-3.9.1.jar  \n",
      "  inflating: stanford-corenlp-full-2018-02-27/input.txt.xml  \n",
      "  inflating: stanford-corenlp-full-2018-02-27/build.xml  \n",
      "  inflating: stanford-corenlp-full-2018-02-27/stanford-corenlp-3.9.1-sources.jar  \n",
      "  inflating: stanford-corenlp-full-2018-02-27/pom.xml  \n",
      "   creating: stanford-corenlp-full-2018-02-27/tokensregex/\n",
      "  inflating: stanford-corenlp-full-2018-02-27/tokensregex/color.input.txt  \n",
      "  inflating: stanford-corenlp-full-2018-02-27/tokensregex/retokenize.txt  \n",
      "  inflating: stanford-corenlp-full-2018-02-27/tokensregex/color.properties  \n",
      "  inflating: stanford-corenlp-full-2018-02-27/tokensregex/color.rules.txt  \n",
      "  inflating: stanford-corenlp-full-2018-02-27/javax.json-api-1.0-sources.jar  \n",
      "  inflating: stanford-corenlp-full-2018-02-27/protobuf.jar  \n",
      "  inflating: stanford-corenlp-full-2018-02-27/StanfordDependenciesManual.pdf  \n",
      "   creating: stanford-corenlp-full-2018-02-27/patterns/\n",
      "  inflating: stanford-corenlp-full-2018-02-27/patterns/example.properties  \n",
      " extracting: stanford-corenlp-full-2018-02-27/patterns/otherpeople.txt  \n",
      " extracting: stanford-corenlp-full-2018-02-27/patterns/goldplaces.txt  \n",
      "  inflating: stanford-corenlp-full-2018-02-27/patterns/stopwords.txt  \n",
      "  inflating: stanford-corenlp-full-2018-02-27/patterns/presidents.txt  \n",
      "  inflating: stanford-corenlp-full-2018-02-27/patterns/names.txt  \n",
      " extracting: stanford-corenlp-full-2018-02-27/patterns/places.txt  \n",
      "  inflating: stanford-corenlp-full-2018-02-27/patterns/goldnames.txt  \n",
      "  inflating: stanford-corenlp-full-2018-02-27/slf4j-simple.jar  \n",
      "  inflating: stanford-corenlp-full-2018-02-27/input.txt  \n",
      "  inflating: stanford-corenlp-full-2018-02-27/joda-time.jar  \n",
      "  inflating: stanford-corenlp-full-2018-02-27/xom.jar  \n",
      "  inflating: stanford-corenlp-full-2018-02-27/StanfordCoreNlpDemo.java  \n",
      "  inflating: stanford-corenlp-full-2018-02-27/stanford-corenlp-3.9.1-javadoc.jar  \n",
      "  inflating: stanford-corenlp-full-2018-02-27/RESOURCE-LICENSES  \n",
      "  inflating: stanford-corenlp-full-2018-02-27/slf4j-api.jar  \n",
      "  inflating: stanford-corenlp-full-2018-02-27/stanford-corenlp-3.9.1-models.jar  \n",
      "  inflating: stanford-corenlp-full-2018-02-27/ejml-0.23.jar  \n",
      "  inflating: stanford-corenlp-full-2018-02-27/javax.json.jar  \n",
      "  inflating: stanford-corenlp-full-2018-02-27/Makefile  \n",
      "  inflating: stanford-corenlp-full-2018-02-27/corenlp.sh  \n",
      "  inflating: stanford-corenlp-full-2018-02-27/joda-time-2.9-sources.jar  \n",
      "  inflating: stanford-corenlp-full-2018-02-27/jollyday.jar  \n",
      "  inflating: stanford-corenlp-full-2018-02-27/ShiftReduceDemo.java  \n",
      "  inflating: stanford-corenlp-full-2018-02-27/SemgrexDemo.java  \n",
      "  inflating: stanford-corenlp-full-2018-02-27/LICENSE.txt  \n"
     ]
    }
   ],
   "source": [
    "# from nltk.parse.stanford import StanfordDependencyParser\n",
    "# Please use nltk.parse.corenlp.CoreNLPDependencyParser instead.\n",
    "# REFERENCE: https://stackoverflow.com/questions/13883277/stanford-parser-and-nltk/51981566#51981566\n",
    "\n",
    "!pip3 install -U nltk # Make sure is >=3.3\n",
    "\n",
    "!curl -0 https://nlp.stanford.edu/software/stanford-corenlp-full-2018-02-27.zip -o stanford-corenlp-full-2018-02-27.zip\n",
    "!unzip stanford-corenlp-full-2018-02-27.zip\n",
    "# # Get the Chinese model \n",
    "# wget http://nlp.stanford.edu/software/stanford-chinese-corenlp-2018-02-27-models.jar\n",
    "# wget https://raw.githubusercontent.com/stanfordnlp/CoreNLP/master/src/edu/stanford/nlp/pipeline/StanfordCoreNLP-chinese.properties \n",
    "\n",
    "# # Get the Arabic model\n",
    "# wget http://nlp.stanford.edu/software/stanford-arabic-corenlp-2018-02-27-models.jar\n",
    "# wget https://raw.githubusercontent.com/stanfordnlp/CoreNLP/master/src/edu/stanford/nlp/pipeline/StanfordCoreNLP-arabic.properties \n",
    "\n",
    "# # Get the French model\n",
    "# wget http://nlp.stanford.edu/software/stanford-french-corenlp-2018-02-27-models.jar\n",
    "# wget https://raw.githubusercontent.com/stanfordnlp/CoreNLP/master/src/edu/stanford/nlp/pipeline/StanfordCoreNLP-french.properties \n",
    "\n",
    "# # Get the German model\n",
    "# wget http://nlp.stanford.edu/software/stanford-german-corenlp-2018-02-27-models.jar\n",
    "# wget https://raw.githubusercontent.com/stanfordnlp/CoreNLP/master/src/edu/stanford/nlp/pipeline/StanfordCoreNLP-german.properties \n",
    "\n",
    "\n",
    "# # Get the Spanish model\n",
    "# wget http://nlp.stanford.edu/software/stanford-spanish-corenlp-2018-02-27-models.jar\n",
    "# wget https://raw.githubusercontent.com/stanfordnlp/CoreNLP/master/src/edu/stanford/nlp/pipeline/StanfordCoreNLP-spanish.properties "
   ]
  },
  {
   "cell_type": "code",
   "execution_count": 32,
   "metadata": {},
   "outputs": [],
   "source": [
    "# CD into the directory and start the server.\n",
    "# java -mx4g -cp \"*\" edu.stanford.nlp.pipeline.StanfordCoreNLPServer \\\n",
    "# -preload tokenize,ssplit,pos,lemma,ner,parse,depparse \\\n",
    "# -status_port 9000 -port 9000 -timeout 15000 & \n",
    "\n",
    "# sdp = StanfordDependencyParser()\n",
    "# result = list(sdp.raw_parse(sentence))"
   ]
  },
  {
   "cell_type": "code",
   "execution_count": 49,
   "metadata": {},
   "outputs": [
    {
     "data": {
      "text/plain": [
       "[Tree('ROOT', [Tree('NP', [Tree('S', [Tree('S', [Tree('NP', [Tree('DT', ['The']), Tree('JJ', ['brown']), Tree('NN', ['fox'])]), Tree('VP', [Tree('VBZ', ['is']), Tree('ADJP', [Tree('JJ', ['quick'])])])]), Tree('CC', ['and']), Tree('S', [Tree('NP', [Tree('PRP', ['he'])]), Tree('VP', [Tree('VBZ', ['is']), Tree('VP', [Tree('VBG', ['jumping']), Tree('PRT', [Tree('RP', ['over'])]), Tree('NP', [Tree('DT', ['the']), Tree('JJ', ['lazy']), Tree('NN', ['dog'])])])])])])])])]"
      ]
     },
     "execution_count": 49,
     "metadata": {},
     "output_type": "execute_result"
    }
   ],
   "source": [
    "from nltk.parse import CoreNLPParser\n",
    "\n",
    "parser = CoreNLPParser(url='http://localhost:9000')\n",
    "result = list(parser.raw_parse(sentence))\n",
    "result"
   ]
  },
  {
   "cell_type": "code",
   "execution_count": 54,
   "metadata": {},
   "outputs": [
    {
     "data": {
      "image/png": "[encoded data removed]",
      "text/plain": [
       "Tree('ROOT', [Tree('NP', [Tree('S', [Tree('S', [Tree('NP', [Tree('DT', ['The']), Tree('JJ', ['brown']), Tree('NN', ['fox'])]), Tree('VP', [Tree('VBZ', ['is']), Tree('ADJP', [Tree('JJ', ['quick'])])])]), Tree('CC', ['and']), Tree('S', [Tree('NP', [Tree('PRP', ['he'])]), Tree('VP', [Tree('VBZ', ['is']), Tree('VP', [Tree('VBG', ['jumping']), Tree('PRT', [Tree('RP', ['over'])]), Tree('NP', [Tree('DT', ['the']), Tree('JJ', ['lazy']), Tree('NN', ['dog'])])])])])])])])"
      ]
     },
     "execution_count": 54,
     "metadata": {},
     "output_type": "execute_result"
    }
   ],
   "source": [
    "result[0]"
   ]
  },
  {
   "cell_type": "markdown",
   "metadata": {},
   "source": [
    "## Building your own dependency parser"
   ]
  },
  {
   "cell_type": "code",
   "execution_count": null,
   "metadata": {},
   "outputs": [],
   "source": [
    "import nltk"
   ]
  },
  {
   "cell_type": "code",
   "execution_count": 35,
   "metadata": {},
   "outputs": [
    {
     "data": {
      "text/plain": [
       "['The',\n",
       " 'brown',\n",
       " 'fox',\n",
       " 'is',\n",
       " 'quick',\n",
       " 'and',\n",
       " 'he',\n",
       " 'is',\n",
       " 'jumping',\n",
       " 'over',\n",
       " 'the',\n",
       " 'lazy',\n",
       " 'dog']"
      ]
     },
     "execution_count": 35,
     "metadata": {},
     "output_type": "execute_result"
    }
   ],
   "source": [
    "tokens = nltk.word_tokenize(sentence)\n",
    "tokens"
   ]
  },
  {
   "cell_type": "code",
   "execution_count": 44,
   "metadata": {},
   "outputs": [
    {
     "name": "stdout",
     "output_type": "stream",
     "text": [
      "Dependency grammar with 12 productions\n",
      "  'fox' -> 'The'\n",
      "  'fox' -> 'brown'\n",
      "  'quick' -> 'fox'\n",
      "  'quick' -> 'is'\n",
      "  'quick' -> 'and'\n",
      "  'quick' -> 'jumping'\n",
      "  'jumping' -> 'he'\n",
      "  'jumping' -> 'is'\n",
      "  'jumping' -> 'dog'\n",
      "  'dog' -> 'over'\n",
      "  'dog' -> 'the'\n",
      "  'dog' -> 'lazy'\n"
     ]
    }
   ],
   "source": [
    "dependency_rules = \"\"\"\n",
    "'fox' -> 'The' | 'brown'\n",
    "'quick' -> 'fox' | 'is' | 'and' | 'jumping'\n",
    "'jumping' -> 'he' | 'is' | 'dog'\n",
    "'dog' -> 'over' | 'the' | 'lazy'\n",
    "\"\"\"\n",
    "dependency_grammar = nltk.grammar.DependencyGrammar.fromstring(dependency_rules)\n",
    "print(dependency_grammar)"
   ]
  },
  {
   "cell_type": "code",
   "execution_count": 56,
   "metadata": {},
   "outputs": [
    {
     "data": {
      "image/png": "[encoded data removed]",
      "text/plain": [
       "Tree('quick', [Tree('fox', ['The', 'brown']), 'is', 'and', Tree('jumping', ['he', 'is', Tree('dog', ['over', 'the', 'lazy'])])])"
      ]
     },
     "execution_count": 56,
     "metadata": {},
     "output_type": "execute_result"
    }
   ],
   "source": [
    "# Build dependency parser.\n",
    "dp = nltk.ProjectiveDependencyParser(dependency_grammar)\n",
    "\n",
    "# Parse into simple sentence.\n",
    "res = [item for item in dp.parse(tokens)]\n",
    "tree = res[0]\n",
    "tree"
   ]
  },
  {
   "cell_type": "code",
   "execution_count": null,
   "metadata": {},
   "outputs": [],
   "source": []
  }
 ],
 "metadata": {
  "kernelspec": {
   "display_name": "Python 3",
   "language": "python",
   "name": "python3"
  },
  "language_info": {
   "codemirror_mode": {
    "name": "ipython",
    "version": 3
   },
   "file_extension": ".py",
   "mimetype": "text/x-python",
   "name": "python",
   "nbconvert_exporter": "python",
   "pygments_lexer": "ipython3",
   "version": "3.7.4"
  }
 },
 "nbformat": 4,
 "nbformat_minor": 2
}
