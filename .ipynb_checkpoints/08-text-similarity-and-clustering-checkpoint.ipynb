{
 "cells": [
  {
   "cell_type": "code",
   "execution_count": 1,
   "metadata": {},
   "outputs": [],
   "source": [
    "import nltk\n",
    "\n",
    "stopword_list = nltk.corpus.stopwords.words('english')\n",
    "stopword_list = stopword_list + ['mr', 'ms', 'come', 'go', 'get', 'tell', 'listen', 'one', 'two', 'three', 'four', 'five', 'six', 'seven', 'eight', 'nine', 'zero', 'join', 'find', 'make', 'say', 'ask', 'tell', 'see', 'try', 'back', 'also']"
   ]
  },
  {
   "cell_type": "code",
   "execution_count": 2,
   "metadata": {},
   "outputs": [],
   "source": [
    "import re\n",
    "\n",
    "def keep_text_characters(text):\n",
    "    filtered_tokens = []\n",
    "    tokens = tokenize_text(text)\n",
    "    for token in tokens:\n",
    "        if re.search('[a-zA-Z]', token):\n",
    "            filtered_tokens.append(token)\n",
    "    filtered_text = ' '.join(filtered_tokens)\n",
    "    return filtered_text"
   ]
  },
  {
   "cell_type": "code",
   "execution_count": 3,
   "metadata": {},
   "outputs": [],
   "source": [
    "from module.contractions import expand_contractions\n",
    "from module.lemmatize import lemmatize_text\n",
    "\n",
    "def normalize_corpus(corpus, lemmatize=True,\n",
    "                     only_text_chars=False,\n",
    "                     tokenize=False):\n",
    "    normalized_corpus = []\n",
    "    for text in corpus:\n",
    "        text = html.unescape(text)\n",
    "        text = expand_contractions(text)\n",
    "    if lemmatize:\n",
    "        text = lemmatize_text(text)\n",
    "    else:\n",
    "        text = text.lower()\n",
    "    text = remove_special_characters(text)\n",
    "    text = remove_stopwords(text)\n",
    "    if only_text_chars:\n",
    "        text = keep_text_characters(text)\n",
    "    if tokenize:\n",
    "        text = tokenize_text(text)\n",
    "        normalized_corpus.append(text)\n",
    "    else:\n",
    "        normalized_corpus.append(text)\n",
    "    return normalized_corpus"
   ]
  },
  {
   "cell_type": "code",
   "execution_count": 4,
   "metadata": {},
   "outputs": [],
   "source": [
    "from sklearn.feature_extraction.text import CountVectorizer, TfidfVectorizer\n",
    "\n",
    "def build_feature_matrix(documents, feature_type='frequency', ngram_range=(1,1), min_df=0.0, max_df=1.0):\n",
    "    feature_type = feature_type.lower().strip()\n",
    "    \n",
    "    if feature_type == 'binary':\n",
    "        vectorizer = CountVectorizer(binary=True, min_df=min_df,\n",
    "                                     max_df=max_df, \n",
    "                                     ngram_range=ngram_range)\n",
    "    elif feature_type == 'frequency':\n",
    "        vectorizer = CountVectorizer(binary=False, min_df=min_df,\n",
    "                                     max_df=max_df, ngram_range=ngram_range)\n",
    "    elif feature_type == 'tfidf':\n",
    "        vectorizer = TfidfVectorizer(min_df=min_df, max_df=max_df,\n",
    "                                     ngram_range=ngram_range)\n",
    "    else:\n",
    "        raise Exception('Wrong feature type entered. Possible values: \"binary\", \"frequency\", \"tfidf\".')\n",
    "        \n",
    "    feature_matrix = vectorizer.fit_transform(documents).astype(float)\n",
    "    \n",
    "    return vectorizer, feature_matrix"
   ]
  },
  {
   "cell_type": "markdown",
   "metadata": {},
   "source": [
    "# Text similarity\n",
    "\n",
    "Analyzing text similarity:\n",
    "\n",
    "- lexical similarity: observing the contents of the text documents with regard to syntax, structure and content and measuring their similarity based on these parameters\n",
    "- semantic similarity: trying to find out the semantics, meaning and context of the documents and then trying to see how close they are to each other. Dependency grammars and entity recognition are handy tools that can help in this.\n",
    "\n",
    "Lexical similarity is more straightforward to implement.\n",
    "\n",
    "Two broad areas of text similarity:\n",
    "- term similarity: measure similarity between individual tokens or words\n",
    "- document similarity: measure similarity between entire text documents"
   ]
  },
  {
   "cell_type": "markdown",
   "metadata": {},
   "source": [
    "## Analyzing term similarity\n",
    "\n",
    "Word representations\n",
    "- character vectorization\n",
    "- bag of characters vectorization"
   ]
  },
  {
   "cell_type": "code",
   "execution_count": 5,
   "metadata": {},
   "outputs": [],
   "source": [
    "import numpy as np\n",
    "\n",
    "def vectorize_terms(terms):\n",
    "    terms = [term.lower() for term in terms]\n",
    "    terms = [np.array(list(term)) for term in terms]\n",
    "    terms = [np.array([ord(char) for char in term])\n",
    "             for term in terms]\n",
    "    return terms"
   ]
  },
  {
   "cell_type": "code",
   "execution_count": 6,
   "metadata": {},
   "outputs": [],
   "source": [
    "# Bag of character vectorization is similar to the bag of words model except here we compute the frequency of each character in the word.\n",
    "\n",
    "def boc_term_vectors(word_list):\n",
    "    word_list = [word.lower() for word in word_list]\n",
    "    unique_chars = np.unique(\n",
    "     np.hstack([list(word)\n",
    "                for word in word_list]))\n",
    "    word_list_term_counts = [{char: count for char, count in zip(*np.unique(list(word), return_counts=True))} for word in word_list]\n",
    "    boc_vectors = [np.array([int(word_term_counts.get(char, 0))\n",
    "                             for char in unique_chars])\n",
    "                   for word_term_counts in word_list_term_counts]\n",
    "\n",
    "    return list(unique_chars), boc_vectors"
   ]
  },
  {
   "cell_type": "code",
   "execution_count": 7,
   "metadata": {},
   "outputs": [],
   "source": [
    "root = 'Believe'\n",
    "term1 = 'beleive'\n",
    "term2 = 'bargain'\n",
    "term3 = 'Elephant'\n",
    "\n",
    "terms = [root, term1, term2, term3]"
   ]
  },
  {
   "cell_type": "code",
   "execution_count": 8,
   "metadata": {},
   "outputs": [
    {
     "data": {
      "text/plain": [
       "(array([ 98, 101, 108, 105, 101, 118, 101]),\n",
       " array([ 98, 101, 108, 101, 105, 118, 101]),\n",
       " array([ 98,  97, 114, 103,  97, 105, 110]),\n",
       " array([101, 108, 101, 112, 104,  97, 110, 116]))"
      ]
     },
     "execution_count": 8,
     "metadata": {},
     "output_type": "execute_result"
    }
   ],
   "source": [
    "# Character vectorization.\n",
    "vec_root, vec_term1, vec_term2, vec_term3 = vectorize_terms(terms)\n",
    "vec_root, vec_term1, vec_term2, vec_term3"
   ]
  },
  {
   "cell_type": "code",
   "execution_count": 9,
   "metadata": {},
   "outputs": [
    {
     "name": "stdout",
     "output_type": "stream",
     "text": [
      "Features\n"
     ]
    },
    {
     "data": {
      "text/plain": [
       "(['a', 'b', 'e', 'g', 'h', 'i', 'l', 'n', 'p', 'r', 't', 'v'],\n",
       " (array([0, 1, 3, 0, 0, 1, 1, 0, 0, 0, 0, 1]),\n",
       "  array([0, 1, 3, 0, 0, 1, 1, 0, 0, 0, 0, 1]),\n",
       "  array([2, 1, 0, 1, 0, 1, 0, 1, 0, 1, 0, 0]),\n",
       "  array([1, 0, 2, 0, 1, 0, 1, 1, 1, 0, 1, 0])))"
      ]
     },
     "execution_count": 9,
     "metadata": {},
     "output_type": "execute_result"
    }
   ],
   "source": [
    "# Bag of characters vectorization.\n",
    "features, (boc_root, boc_term1, boc_term2, boc_term3) = boc_term_vectors(terms)\n",
    "print('Features')\n",
    "features, (boc_root, boc_term1, boc_term2, boc_term3)"
   ]
  },
  {
   "cell_type": "markdown",
   "metadata": {},
   "source": [
    "# Measuring similarity distance\n",
    "\n",
    "- hamming distance\n",
    "- manhattan distance\n",
    "- euclidean distance\n",
    "- levenshtein edit distance\n",
    "- cosine distance and similarity"
   ]
  },
  {
   "cell_type": "code",
   "execution_count": 10,
   "metadata": {},
   "outputs": [],
   "source": [
    "root_term = root\n",
    "root_vector = vec_root\n",
    "root_boc_vector = boc_root\n",
    "\n",
    "terms = [term1, term2, term3]\n",
    "vector_terms = [vec_term1, vec_term2, vec_term3]\n",
    "boc_vector_terms = [boc_term1, boc_term2, boc_term3]"
   ]
  },
  {
   "cell_type": "markdown",
   "metadata": {},
   "source": [
    "# Hamming distance\n",
    "\n",
    "Distance measured between two strings under the assumptions that they are of equal length. Hamming distance is defined as the number of positions that have different characters or symbols between two strings of equal length."
   ]
  },
  {
   "cell_type": "code",
   "execution_count": 11,
   "metadata": {},
   "outputs": [],
   "source": [
    "def hamming_distance(u, v, norm=False):\n",
    "    if u.shape != v.shape:\n",
    "        raise ValueError('The vectors must have equal length')\n",
    "    return (u != v).sum() if not norm else (u != v).mean()"
   ]
  },
  {
   "cell_type": "code",
   "execution_count": 12,
   "metadata": {},
   "outputs": [
    {
     "name": "stdout",
     "output_type": "stream",
     "text": [
      "Hamming distance between root: Believe and term beleive is: 2\n",
      "Hamming distance between root: Believe and term bargain is: 6\n"
     ]
    },
    {
     "ename": "ValueError",
     "evalue": "The vectors must have equal length",
     "output_type": "error",
     "traceback": [
      "\u001b[0;31m---------------------------------------------------------------------------\u001b[0m",
      "\u001b[0;31mValueError\u001b[0m                                Traceback (most recent call last)",
      "\u001b[0;32m<ipython-input-12-67f4952a8c08>\u001b[0m in \u001b[0;36m<module>\u001b[0;34m\u001b[0m\n\u001b[1;32m      1\u001b[0m \u001b[0;31m# Compute hamming distance.\u001b[0m\u001b[0;34m\u001b[0m\u001b[0;34m\u001b[0m\u001b[0;34m\u001b[0m\u001b[0m\n\u001b[1;32m      2\u001b[0m \u001b[0;32mfor\u001b[0m \u001b[0mterm\u001b[0m\u001b[0;34m,\u001b[0m \u001b[0mvector_term\u001b[0m \u001b[0;32min\u001b[0m \u001b[0mzip\u001b[0m\u001b[0;34m(\u001b[0m\u001b[0mterms\u001b[0m\u001b[0;34m,\u001b[0m \u001b[0mvector_terms\u001b[0m\u001b[0;34m)\u001b[0m\u001b[0;34m:\u001b[0m\u001b[0;34m\u001b[0m\u001b[0;34m\u001b[0m\u001b[0m\n\u001b[0;32m----> 3\u001b[0;31m     \u001b[0mprint\u001b[0m\u001b[0;34m(\u001b[0m\u001b[0;34mf'Hamming distance between root: {root_term} and term {term} is: {hamming_distance(root_vector, vector_term, norm=False)}'\u001b[0m\u001b[0;34m)\u001b[0m\u001b[0;34m\u001b[0m\u001b[0;34m\u001b[0m\u001b[0m\n\u001b[0m",
      "\u001b[0;32m<ipython-input-11-3a96688e0091>\u001b[0m in \u001b[0;36mhamming_distance\u001b[0;34m(u, v, norm)\u001b[0m\n\u001b[1;32m      1\u001b[0m \u001b[0;32mdef\u001b[0m \u001b[0mhamming_distance\u001b[0m\u001b[0;34m(\u001b[0m\u001b[0mu\u001b[0m\u001b[0;34m,\u001b[0m \u001b[0mv\u001b[0m\u001b[0;34m,\u001b[0m \u001b[0mnorm\u001b[0m\u001b[0;34m=\u001b[0m\u001b[0;32mFalse\u001b[0m\u001b[0;34m)\u001b[0m\u001b[0;34m:\u001b[0m\u001b[0;34m\u001b[0m\u001b[0;34m\u001b[0m\u001b[0m\n\u001b[1;32m      2\u001b[0m     \u001b[0;32mif\u001b[0m \u001b[0mu\u001b[0m\u001b[0;34m.\u001b[0m\u001b[0mshape\u001b[0m \u001b[0;34m!=\u001b[0m \u001b[0mv\u001b[0m\u001b[0;34m.\u001b[0m\u001b[0mshape\u001b[0m\u001b[0;34m:\u001b[0m\u001b[0;34m\u001b[0m\u001b[0;34m\u001b[0m\u001b[0m\n\u001b[0;32m----> 3\u001b[0;31m         \u001b[0;32mraise\u001b[0m \u001b[0mValueError\u001b[0m\u001b[0;34m(\u001b[0m\u001b[0;34m'The vectors must have equal length'\u001b[0m\u001b[0;34m)\u001b[0m\u001b[0;34m\u001b[0m\u001b[0;34m\u001b[0m\u001b[0m\n\u001b[0m\u001b[1;32m      4\u001b[0m     \u001b[0;32mreturn\u001b[0m \u001b[0;34m(\u001b[0m\u001b[0mu\u001b[0m \u001b[0;34m!=\u001b[0m \u001b[0mv\u001b[0m\u001b[0;34m)\u001b[0m\u001b[0;34m.\u001b[0m\u001b[0msum\u001b[0m\u001b[0;34m(\u001b[0m\u001b[0;34m)\u001b[0m \u001b[0;32mif\u001b[0m \u001b[0;32mnot\u001b[0m \u001b[0mnorm\u001b[0m \u001b[0;32melse\u001b[0m \u001b[0;34m(\u001b[0m\u001b[0mu\u001b[0m \u001b[0;34m!=\u001b[0m \u001b[0mv\u001b[0m\u001b[0;34m)\u001b[0m\u001b[0;34m.\u001b[0m\u001b[0mmean\u001b[0m\u001b[0;34m(\u001b[0m\u001b[0;34m)\u001b[0m\u001b[0;34m\u001b[0m\u001b[0;34m\u001b[0m\u001b[0m\n",
      "\u001b[0;31mValueError\u001b[0m: The vectors must have equal length"
     ]
    }
   ],
   "source": [
    "# Compute hamming distance.\n",
    "for term, vector_term in zip(terms, vector_terms):\n",
    "    print(f'Hamming distance between root: {root_term} and term {term} is: {hamming_distance(root_vector, vector_term, norm=False)}')"
   ]
  },
  {
   "cell_type": "code",
   "execution_count": null,
   "metadata": {},
   "outputs": [],
   "source": [
    "# Compute normalized Hamming distance.\n",
    "for term, vector_term in zip(terms, vector_terms):\n",
    "    print(f'Hamming distance between root: {root_term} and term {term} is: {round(hamming_distance(root_vector, vector_term, norm=True), 2)}')"
   ]
  },
  {
   "cell_type": "markdown",
   "metadata": {},
   "source": [
    "# Manhattan distance\n",
    "\n",
    "Also known as _city block distance_, _L1 norm_, _taxicab metric_ and is defined as the distance between two points in a grid based on strictly horizontal or vertical paths instead of the diagonal distance conventionally calculated by the Euclidean distance metric."
   ]
  },
  {
   "cell_type": "code",
   "execution_count": null,
   "metadata": {},
   "outputs": [],
   "source": [
    "def manhattan_distance(u, v, norm=False):\n",
    "    if u.shape != v.shape:\n",
    "        raise ValueError('The vectors must have equal lengths.')\n",
    "    return abs(u - v).sum() if not norm else abs(u - v).mean()"
   ]
  },
  {
   "cell_type": "code",
   "execution_count": null,
   "metadata": {},
   "outputs": [],
   "source": [
    "# Compute Manhattan distance.\n",
    "for term, vector_term in zip(terms, vector_terms):\n",
    "    print(f'Manhattan distance between root: {root_term} and term {term} is: {manhattan_distance(root_vector, vector_term, norm=False)}')"
   ]
  },
  {
   "cell_type": "code",
   "execution_count": null,
   "metadata": {},
   "outputs": [],
   "source": [
    "# Compute normalized Manhattan distance.\n",
    "for term, vector_term in zip(terms, vector_terms):\n",
    "    print(f'Manhattan distance between root: {root_term} and term {term} is: {round(manhattan_distance(root_vector, vector_term, norm=True), 2)}')"
   ]
  },
  {
   "cell_type": "markdown",
   "metadata": {},
   "source": [
    "# Euclidean distance\n",
    "\n",
    "Euclidean distance is also known as the _euclidean norm_, _l2 norm_, or _l2 distance_ and is defined as the shortest straight line distance between two points."
   ]
  },
  {
   "cell_type": "code",
   "execution_count": null,
   "metadata": {},
   "outputs": [],
   "source": [
    "def euclidean_distance(u, v):\n",
    "    if u.shape != v.shape:\n",
    "        raise ValueError('The vectors must have equal lengths.')\n",
    "    distance = np.sqrt(np.sum(np.square(u - v)))\n",
    "    return distance"
   ]
  },
  {
   "cell_type": "code",
   "execution_count": null,
   "metadata": {},
   "outputs": [],
   "source": [
    "# Compute euclidean distance.\n",
    "for term, vector_term in zip(terms, vector_terms):\n",
    "    print('Euclidean distance between root {} and term {} is {}'.format(root_term,\n",
    "                                                                        term,\n",
    "                                                                        round(euclidean_distance(root_vector, vector_term), 2)))"
   ]
  },
  {
   "cell_type": "markdown",
   "metadata": {},
   "source": [
    "# Levenshtein edit distance\n",
    "\n",
    "Defined as the minimum number of edits needed in the form of additions, deletions or substitutions to change or convert one term to the other. The length of two terms need not be equal here."
   ]
  },
  {
   "cell_type": "code",
   "execution_count": null,
   "metadata": {},
   "outputs": [],
   "source": [
    "import copy\n",
    "import pandas as pd\n",
    "\n",
    "def levenshtein_edit_distance(u, v):\n",
    "    # Convert to lower case.\n",
    "    u = u.lower()\n",
    "    v = v.lower()\n",
    "    \n",
    "    # Base cases.\n",
    "    if u == v: return 0\n",
    "    elif len(u) == 0: return len(v)\n",
    "    elif len(v) == 0: return len(u)\n",
    "    \n",
    "    # Initialize edit distance matrix.\n",
    "    edit_matrix = []\n",
    "    \n",
    "    # Initialize two distance matrices.\n",
    "    du = [0] * (len(v) + 1)\n",
    "    dv = [0] * (len(v) + 1)\n",
    "    \n",
    "    # du: the previous row of edit distances.\n",
    "    for i in range(len(du)):\n",
    "        du[i] = i\n",
    "        \n",
    "    # dv: the current row of edit distances.\n",
    "    for i in range(len(u)):\n",
    "        dv[0] = i + 1\n",
    "        \n",
    "        # Compute cost as per algorithm.\n",
    "        for j in range(len(v)):\n",
    "            cost = 0 if u[i] == v[j] else 1\n",
    "            dv[j + 1] = min(dv[j] + 1, du[j + 1] + 1, du[j] + cost)\n",
    "        \n",
    "        # Assign dv to du for next iteration.\n",
    "        for j in range(len(du)):\n",
    "            du[j] = dv[j]\n",
    "        \n",
    "        # Copy dv to the edit matrix.\n",
    "        edit_matrix.append(copy.copy(dv))\n",
    "        \n",
    "    # Compute the final edit distance and edit matrix.\n",
    "    distance = dv[len(v)]\n",
    "    edit_matrix = np.array(edit_matrix)\n",
    "    edit_matrix = edit_matrix.T\n",
    "    edit_matrix = edit_matrix[1:,]\n",
    "    edit_matrix = pd.DataFrame(data=edit_matrix,\n",
    "                               index=list(v),\n",
    "                               columns=list(u))\n",
    "    return distance, edit_matrix"
   ]
  },
  {
   "cell_type": "code",
   "execution_count": null,
   "metadata": {},
   "outputs": [],
   "source": [
    "for term in terms:\n",
    "    edit_d, edit_m = levenshtein_edit_distance(root_term, term)\n",
    "    print(f'Computing distance between root: {root_term} and term: {term}')\n",
    "    print(f'Levenshtein edit distance is {edit_d}')\n",
    "    print('The complete edit distance matrix is depicted below')\n",
    "    print(edit_m)\n",
    "    print('-' * 30)"
   ]
  },
  {
   "cell_type": "markdown",
   "metadata": {},
   "source": [
    "# Cosine distance and similarity\n",
    "\n",
    "The cosine distance is a metric that can be actually derived from the cosine similarity and vice versa. Considering we have two terms such that they are represented in their vectorized forms, Cosine similarity gives us the measure of the cosine of the angle between them when they are represented as non-zero positive vectors in an inner product space.\n",
    "\n",
    "Term vectors having similar orientation will have scores closer to 1 (cos 0) indicating the vectors are very close to each other in the same direction (near to zero degree angle between them). Term vectors having a similarity score close to 0 (cos 90) indicate unrelated terms with a near orthogonal angle between them. Term vectors with a similarity score close to -1 (cos 180) indicate terms that are completely oppositely oriented to each other."
   ]
  },
  {
   "cell_type": "code",
   "execution_count": null,
   "metadata": {},
   "outputs": [],
   "source": [
    "def cosine_distance(u, v):\n",
    "    distance = 1.0 - (np.dot(u, v) / \n",
    "                      (np.sqrt(sum(np.square(u))) * np.sqrt(sum(np.square(v))))\n",
    "                     )\n",
    "    return distance"
   ]
  },
  {
   "cell_type": "code",
   "execution_count": null,
   "metadata": {},
   "outputs": [],
   "source": [
    "for term, boc_term in zip(terms, boc_vector_terms):\n",
    "    print('Analyzing similarity between root: {} and term: {}'.format(root_term, term))\n",
    "    distance = round(cosine_distance(root_boc_vector, boc_term), 2)\n",
    "    similarity = 1 - distance\n",
    "    print(f'Cosine distance is {distance}')\n",
    "    print(f'Cosine similarity is {similarity}')\n",
    "    print('-' * 40)"
   ]
  },
  {
   "cell_type": "markdown",
   "metadata": {},
   "source": [
    "# Analyzing document similarity\n",
    "\n",
    "Metrics:\n",
    "- cosine similarity\n",
    "- hellinger-bhattacharya distance\n",
    "- okapi bm25 ranking\n"
   ]
  },
  {
   "cell_type": "code",
   "execution_count": 13,
   "metadata": {},
   "outputs": [],
   "source": [
    "from module.utils import normalize_corpus, build_feature_matrix\n",
    "import numpy as np"
   ]
  },
  {
   "cell_type": "code",
   "execution_count": 14,
   "metadata": {},
   "outputs": [],
   "source": [
    "# Load the toy corpus index.\n",
    "toy_corpus = [\n",
    "    'The sky is blue',\n",
    "    'The sky is blue and beautiful',\n",
    "    'Look at the bright blue sky!',\n",
    "    'Python is a great programming language',\n",
    "    'Python and Java are popular Programming languages',\n",
    "    'Among Programming languages, both Python and Java are the most used in Analytics',\n",
    "    'The fox is quicker than the lazy dog',\n",
    "    'The dog is smarter than the fox',\n",
    "    'The dog, fox and cat are good friends'\n",
    "]"
   ]
  },
  {
   "cell_type": "code",
   "execution_count": 15,
   "metadata": {},
   "outputs": [],
   "source": [
    "# Load the docs for which we will be measuring similarities.\n",
    "query_docs = ['The fox is definitely smarter than the dog',\n",
    "              'Java is a static typed programming language unlike Python',\n",
    "              'I love to relax under the beautiful blue sky!']"
   ]
  },
  {
   "cell_type": "code",
   "execution_count": 21,
   "metadata": {},
   "outputs": [],
   "source": [
    "# Normalize and extract features from the toy corpus.\n",
    "norm_corpus = normalize_corpus(toy_corpus, lemmatize=True)\n",
    "tfidf_vectorizer, tfidf_features = build_feature_matrix(norm_corpus, \n",
    "                                                        feature_type='tfidf')"
   ]
  },
  {
   "cell_type": "code",
   "execution_count": 22,
   "metadata": {},
   "outputs": [],
   "source": [
    "# Normalize and extract features from the query corpys.\n",
    "norm_query_docs = normalize_corpus(query_docs, lemmatize=True)\n",
    "query_docs_tfidf = tfidf_vectorizer.transform(norm_query_docs)"
   ]
  },
  {
   "cell_type": "markdown",
   "metadata": {},
   "source": [
    "# Cosine similarity."
   ]
  },
  {
   "cell_type": "code",
   "execution_count": 23,
   "metadata": {},
   "outputs": [],
   "source": [
    "def compute_cosine_similarity(doc_features, corpus_features,\n",
    "                              top_n=3):\n",
    "    # Get document vectors.\n",
    "    doc_features = doc_features.toarray()[0]\n",
    "    corpus_features = corpus_features.toarray()\n",
    "    \n",
    "    # Compute similarities.\n",
    "    similarity = np.dot(doc_features,\n",
    "                        corpus_features.T)\n",
    "    \n",
    "    # Get doc with highest similarity scores.\n",
    "    top_docs = similarity.argsort()[::-1][:top_n]\n",
    "    top_docs_with_score = [(index, round(similarity[index], 3))\n",
    "                           for index in top_docs]\n",
    "    return top_docs_with_score"
   ]
  },
  {
   "cell_type": "code",
   "execution_count": 24,
   "metadata": {},
   "outputs": [
    {
     "name": "stdout",
     "output_type": "stream",
     "text": [
      "Document similarity analysis using cosine similarity\n",
      "============================================================\n",
      "Document 1: The fox is definitely smarter than the dog\n",
      "Top 2 similar docs:\n",
      "----------------------------------------\n",
      "Doc num: 8 Similarity score: 1.0\n",
      "Doc: The dog is smarter than the fox\n",
      "----------------------------------------\n",
      "Doc num: 7 Similarity score: 0.426\n",
      "Doc: The fox is quicker than the lazy dog\n",
      "----------------------------------------\n",
      "\n",
      "Document 2: Java is a static typed programming language unlike Python\n",
      "Top 2 similar docs:\n",
      "----------------------------------------\n",
      "Doc num: 5 Similarity score: 0.837\n",
      "Doc: Python and Java are popular Programming languages\n",
      "----------------------------------------\n",
      "Doc num: 6 Similarity score: 0.661\n",
      "Doc: Among Programming languages, both Python and Java are the most used in Analytics\n",
      "----------------------------------------\n",
      "\n",
      "Document 3: I love to relax under the beautiful blue sky!\n",
      "Top 2 similar docs:\n",
      "----------------------------------------\n",
      "Doc num: 2 Similarity score: 1.0\n",
      "Doc: The sky is blue and beautiful\n",
      "----------------------------------------\n",
      "Doc num: 1 Similarity score: 0.72\n",
      "Doc: The sky is blue\n",
      "----------------------------------------\n",
      "\n"
     ]
    }
   ],
   "source": [
    "# Get Cosine similarity results for our example documents.\n",
    "print('Document similarity analysis using cosine similarity')\n",
    "print('=' * 60)\n",
    "\n",
    "for index, doc in enumerate(query_docs):\n",
    "    doc_tfidf = query_docs_tfidf[index]\n",
    "    top_similar_docs = compute_cosine_similarity(doc_tfidf, \n",
    "                                                 tfidf_features,\n",
    "                                                 top_n=2)\n",
    "    \n",
    "    print(f'Document {index+1}: {doc}')\n",
    "    print(f'Top {len(top_similar_docs)} similar docs:')\n",
    "    print('-' * 40)\n",
    "    for doc_index, sim_score in top_similar_docs:\n",
    "        print(f'Doc num: {doc_index+1} Similarity score: {sim_score}\\nDoc: {toy_corpus[doc_index]}')\n",
    "        print('-' * 40)\n",
    "    print()"
   ]
  },
  {
   "cell_type": "markdown",
   "metadata": {},
   "source": [
    "# Hellinger-Bhattacharya Distance\n",
    "\n",
    "Aka Hellinger Distance or the Bhattacharya distance, is used to measure the similarity between two discrete or continuous probability distributions."
   ]
  },
  {
   "cell_type": "code",
   "execution_count": 25,
   "metadata": {},
   "outputs": [],
   "source": [
    "def compute_hellinger_bhattacharya_distance(doc_features, corpus_features, top_n=3):\n",
    "    # Get document vectors.\n",
    "    doc_features = doc_features.toarray()[0]\n",
    "    corpus_features = corpus_features.toarray()\n",
    "    \n",
    "    # Compute hb distances.\n",
    "    distance = np.hstack(\n",
    "     np.sqrt(0.5 * np.sum(np.square(np.sqrt(doc_features) - np.sqrt(corpus_features)),\n",
    "                          axis=1)))\n",
    "    \n",
    "    # Get docs with the lowest distance scores.\n",
    "    top_docs = distance.argsort()[:top_n]\n",
    "    top_docs_with_scores = [(index, round(distance[index], 3))\n",
    "                             for index in top_docs]\n",
    "    return top_docs_with_scores"
   ]
  },
  {
   "cell_type": "code",
   "execution_count": 26,
   "metadata": {},
   "outputs": [
    {
     "name": "stdout",
     "output_type": "stream",
     "text": [
      "Document similarity analysis using Hellinger-Bhattacharya distance:\n",
      "============================================================\n",
      "Document 1: The fox is definitely smarter than the dog\n",
      "Top 2 similar docs\n",
      "----------------------------------------\n",
      "Doc num: 8: Distance score: 0.0\n",
      "Doc: The dog is smarter than the fox\n",
      "----------------------------------------\n",
      "Doc num: 7: Distance score: 0.96\n",
      "Doc: The fox is quicker than the lazy dog\n",
      "----------------------------------------\n",
      "\n",
      "Document 2: Java is a static typed programming language unlike Python\n",
      "Top 2 similar docs\n",
      "----------------------------------------\n",
      "Doc num: 5: Distance score: 0.53\n",
      "Doc: Python and Java are popular Programming languages\n",
      "----------------------------------------\n",
      "Doc num: 4: Distance score: 0.766\n",
      "Doc: Python is a great programming language\n",
      "----------------------------------------\n",
      "\n",
      "Document 3: I love to relax under the beautiful blue sky!\n",
      "Top 2 similar docs\n",
      "----------------------------------------\n",
      "Doc num: 2: Distance score: 0.0\n",
      "Doc: The sky is blue and beautiful\n",
      "----------------------------------------\n",
      "Doc num: 1: Distance score: 0.602\n",
      "Doc: The sky is blue\n",
      "----------------------------------------\n",
      "\n"
     ]
    }
   ],
   "source": [
    "# Get Hellinger-Bhattacharya distance based similarities for our example documents.\n",
    "print('Document similarity analysis using Hellinger-Bhattacharya distance:')\n",
    "print('=' * 60)\n",
    "for index, doc in enumerate(query_docs):\n",
    "    doc_tfidf = query_docs_tfidf[index]\n",
    "    top_similar_docs = compute_hellinger_bhattacharya_distance(doc_tfidf, \n",
    "                                                               tfidf_features,\n",
    "                                                               top_n=2)\n",
    "    print(f'Document {index+1}: {doc}')\n",
    "    print(f'Top {len(top_similar_docs)} similar docs')\n",
    "    print('-' * 40)\n",
    "    for doc_index, sim_score in top_similar_docs:\n",
    "        print(f'Doc num: {doc_index+1}: Distance score: {sim_score}\\nDoc: {toy_corpus[doc_index]}')\n",
    "        print('-' * 40)\n",
    "    print()"
   ]
  },
  {
   "cell_type": "markdown",
   "metadata": {},
   "source": [
    "# Okapi BM25 ranking\n",
    "\n",
    "BM stands for best matching. The Okapi BM25 can be formally defined as a document ranking and retrieval function based on a Bag-of-Words based model for retrieving relevant documents based on a user input query."
   ]
  },
  {
   "cell_type": "code",
   "execution_count": 27,
   "metadata": {},
   "outputs": [],
   "source": [
    "import scipy.sparse as sp\n",
    "\n",
    "def compute_corpus_term_idfs(corpus_features, norm_corpus):\n",
    "    dfs = np.diff(sp.csc_matrix(corpus_features, copy=True).indptr)\n",
    "    dfs = 1 + dfs # To smoothen the idf later.\n",
    "    total_docs = 1 + len(norm_corpus)\n",
    "    idfs = 1.0 + np.log(float(total_docs) / dfs)\n",
    "    return idfs"
   ]
  },
  {
   "cell_type": "code",
   "execution_count": 28,
   "metadata": {},
   "outputs": [],
   "source": [
    "def compute_bm25_similarity(doc_features, corpus_features,\n",
    "                            corpus_doc_lengths, \n",
    "                            avg_doc_length,\n",
    "                            term_idfs, k1=1.5, b=0.75, top_n=3):\n",
    "    # Get corpus bag of words features.\n",
    "    corpus_features = corpus_features.toarray()\n",
    "    \n",
    "    # Convert query document features to binary features.\n",
    "    # This is to keep a note of which terms exist per document.\n",
    "    doc_features = doc_features.toarray()[0]\n",
    "    doc_features[doc_features >= 1] = 1\n",
    "    \n",
    "    # Compute the document idf scores for present terms.\n",
    "    doc_idfs = doc_features * term_idfs\n",
    "    \n",
    "    # Compute the numerator expression in BM25 equation.\n",
    "    numerator_coeff = corpus_features * (k1 + 1)\n",
    "    numerator = np.multiply(doc_idfs, numerator_coeff)\n",
    "    \n",
    "    # Compute denominator expression in BM25 equation.\n",
    "    denominator_coeff = k1 * (1 - b + (b * (corpus_doc_lengths / avg_doc_length)))\n",
    "    denominator_coeff = np.vstack(denominator_coeff)\n",
    "    denominator = corpus_features + denominator_coeff\n",
    "    \n",
    "    # Compute the BM25 score combining the above equations.\n",
    "    bm25_scores = np.sum(np.divide(numerator,\n",
    "                                   denominator),\n",
    "                         axis=1)\n",
    "    \n",
    "    # Get top n relevant docs with highest BM25 score.\n",
    "    top_docs = bm25_scores.argsort()[::-1][:top_n]\n",
    "    top_docs_with_score = [(index, round(bm25_scores[index], 3))\n",
    "                           for index in top_docs]\n",
    "    return top_docs_with_score"
   ]
  },
  {
   "cell_type": "code",
   "execution_count": 29,
   "metadata": {},
   "outputs": [
    {
     "name": "stdout",
     "output_type": "stream",
     "text": [
      "Document similarity analysis using BM25\n",
      "============================================================\n",
      "Document 1: The fox is definitely smarter than the dog\n",
      "Top 2 similar docs:\n",
      "----------------------------------------\n",
      "Doc num: 8 BM25 Score: 7.334\n",
      "Doc: The dog is smarter than the fox\n",
      "----------------------------------------\n",
      "Doc num: 7 BM25 Score: 3.88\n",
      "Doc: The fox is quicker than the lazy dog\n",
      "----------------------------------------\n",
      "\n",
      "Document 2: Java is a static typed programming language unlike Python\n",
      "Top 2 similar docs:\n",
      "----------------------------------------\n",
      "Doc num: 5 BM25 Score: 7.248\n",
      "Doc: Python and Java are popular Programming languages\n",
      "----------------------------------------\n",
      "Doc num: 6 BM25 Score: 6.042\n",
      "Doc: Among Programming languages, both Python and Java are the most used in Analytics\n",
      "----------------------------------------\n",
      "\n",
      "Document 3: I love to relax under the beautiful blue sky!\n",
      "Top 2 similar docs:\n",
      "----------------------------------------\n",
      "Doc num: 2 BM25 Score: 7.334\n",
      "Doc: The sky is blue and beautiful\n",
      "----------------------------------------\n",
      "Doc num: 1 BM25 Score: 4.984\n",
      "Doc: The sky is blue\n",
      "----------------------------------------\n",
      "\n"
     ]
    }
   ],
   "source": [
    "# Build bag of words based features first.\n",
    "vectorizer, corpus_features = build_feature_matrix(norm_corpus, feature_type='frequency')\n",
    "query_docs_features = vectorizer.transform(norm_query_docs)\n",
    "\n",
    "# Get average document length of the corpus (avgdl)\n",
    "docs_length = [len(doc.split()) for doc in norm_corpus]\n",
    "avg_dl = np.average(docs_length)\n",
    "\n",
    "# Get the corpus term idfs.\n",
    "corpus_term_idfs = compute_corpus_term_idfs(corpus_features, norm_corpus)\n",
    "\n",
    "# Analyze document similarity using BM25 framework.\n",
    "print('Document similarity analysis using BM25')\n",
    "print('=' * 60)\n",
    "\n",
    "for index, doc in enumerate(query_docs):\n",
    "    doc_features = query_docs_features[index]\n",
    "    top_similar_docs = compute_bm25_similarity(doc_features, \n",
    "                                               corpus_features,\n",
    "                                               docs_length,\n",
    "                                               avg_dl,\n",
    "                                               corpus_term_idfs,\n",
    "                                               k1=1.5, b=0.75,\n",
    "                                               top_n=2)\n",
    "    print(f'Document {index+1}: {doc}')\n",
    "    print(f'Top {len(top_similar_docs)} similar docs:')\n",
    "    print('-' * 40)\n",
    "    for doc_index, sim_score in top_similar_docs:\n",
    "        print(f'Doc num: {doc_index+1} BM25 Score: {sim_score}\\nDoc: {toy_corpus[doc_index]}')\n",
    "        print('-' * 40)\n",
    "    print()"
   ]
  },
  {
   "cell_type": "markdown",
   "metadata": {},
   "source": [
    "# Document clustering\n",
    "\n",
    "- document classification needs pre-labeled training data to build a model and then categorize documents\n",
    "- document clustering uses unsupervised ML algorithms to group the documents into various clusters.\n",
    "\n",
    "Clustering algorithms:\n",
    "- hierarchical clustering models\n",
    "- centroid-based clustering models\n",
    "- distribution-based clustering models\n",
    "- density-based clustering models\n",
    "\n",
    "Algorithms:\n",
    "- k-means clustering\n",
    "- affinity propagation\n",
    "- ward's agglomerative hierarchical clustering"
   ]
  },
  {
   "cell_type": "code",
   "execution_count": 30,
   "metadata": {},
   "outputs": [],
   "source": [
    "import pandas as pd\n",
    "import numpy as np"
   ]
  },
  {
   "cell_type": "code",
   "execution_count": 31,
   "metadata": {},
   "outputs": [
    {
     "data": {
      "text/html": [
       "<div>\n",
       "<style scoped>\n",
       "    .dataframe tbody tr th:only-of-type {\n",
       "        vertical-align: middle;\n",
       "    }\n",
       "\n",
       "    .dataframe tbody tr th {\n",
       "        vertical-align: top;\n",
       "    }\n",
       "\n",
       "    .dataframe thead th {\n",
       "        text-align: right;\n",
       "    }\n",
       "</style>\n",
       "<table border=\"1\" class=\"dataframe\">\n",
       "  <thead>\n",
       "    <tr style=\"text-align: right;\">\n",
       "      <th></th>\n",
       "      <th>Title</th>\n",
       "      <th>Synopsis</th>\n",
       "    </tr>\n",
       "  </thead>\n",
       "  <tbody>\n",
       "    <tr>\n",
       "      <th>0</th>\n",
       "      <td>The Godfather</td>\n",
       "      <td>In late summer 1945, guests are gathered for t...</td>\n",
       "    </tr>\n",
       "    <tr>\n",
       "      <th>1</th>\n",
       "      <td>The Shawshank Redemption</td>\n",
       "      <td>In 1947, Andy Dufresne (Tim Robbins), a banker...</td>\n",
       "    </tr>\n",
       "    <tr>\n",
       "      <th>2</th>\n",
       "      <td>Schindler's List</td>\n",
       "      <td>The relocation of Polish Jews from surrounding...</td>\n",
       "    </tr>\n",
       "    <tr>\n",
       "      <th>3</th>\n",
       "      <td>Raging Bull</td>\n",
       "      <td>The film opens in 1964, where an older and fat...</td>\n",
       "    </tr>\n",
       "    <tr>\n",
       "      <th>4</th>\n",
       "      <td>Casablanca</td>\n",
       "      <td>In the early years of World War II, December 1...</td>\n",
       "    </tr>\n",
       "  </tbody>\n",
       "</table>\n",
       "</div>"
      ],
      "text/plain": [
       "                      Title                                           Synopsis\n",
       "0             The Godfather  In late summer 1945, guests are gathered for t...\n",
       "1  The Shawshank Redemption  In 1947, Andy Dufresne (Tim Robbins), a banker...\n",
       "2          Schindler's List  The relocation of Polish Jews from surrounding...\n",
       "3               Raging Bull  The film opens in 1964, where an older and fat...\n",
       "4                Casablanca  In the early years of World War II, December 1..."
      ]
     },
     "execution_count": 31,
     "metadata": {},
     "output_type": "execute_result"
    }
   ],
   "source": [
    "# Load movie data.\n",
    "movie_data = pd.read_csv('movie_data.csv')\n",
    "\n",
    "# View movie data.\n",
    "movie_data.head()"
   ]
  },
  {
   "cell_type": "code",
   "execution_count": 32,
   "metadata": {},
   "outputs": [
    {
     "name": "stdout",
     "output_type": "stream",
     "text": [
      "Movie: The Godfather\n",
      "Movie Synopsis: In late summer 1945, guests are gathered for the wedding reception of Don Vito Corleone's daughter Connie (Talia Shire) and Carlo Rizzi (Gianni Russo). Vito (Marlon Brando), the head of the Corleone Mafia family, is known to friends and associates as \"Godfather.\" He and Tom Hagen (Robert Duvall), the Corleone family lawyer, are hearing requests for favors because, according to Italian tradition, \"no Sicilian can refuse a request on his daughter's wedding day.\" One of the men who asks the Don for a favor is Amerigo Bonasera, a successful mortician and acquaintance of the Don, whose daughter was brutally beaten by two young men because she refused their advances; the men received minimal punishment. The Don is disappointed in Bonasera, who'd avoided most contact with the Don due to Corleone's nefarious business dealings. The Don's wife is godmother to Bonasera's shamed daughter, a relationship the Don uses to extract new loyalty from the undertaker. The Don agrees to have his men punish \n"
     ]
    }
   ],
   "source": [
    "movie_titles = movie_data['Title']\n",
    "movie_synopses = movie_data['Synopsis']\n",
    "print('Movie:', movie_titles[0])\n",
    "print('Movie Synopsis:', movie_synopses[0][:1000])"
   ]
  },
  {
   "cell_type": "code",
   "execution_count": 48,
   "metadata": {},
   "outputs": [],
   "source": [
    "# %load_ext autoreload\n",
    "%reload_ext autoreload\n",
    "\n",
    "from module.utils import normalize_corpus, build_feature_matrix\n",
    "\n",
    "# Normalize corpus.\n",
    "norm_movie_synopses = normalize_corpus(movie_synopses,\n",
    "                                       lemmatize=True,\n",
    "                                       only_text_chars=True)"
   ]
  },
  {
   "cell_type": "code",
   "execution_count": 49,
   "metadata": {},
   "outputs": [
    {
     "name": "stdout",
     "output_type": "stream",
     "text": [
      "(100, 314)\n"
     ]
    }
   ],
   "source": [
    "# Extract tf-idf features.\n",
    "vectorizer, feature_matrix = build_feature_matrix(norm_movie_synopses,\n",
    "                                                  feature_type='tfidf',\n",
    "                                                  min_df=0.24, max_df=0.85,\n",
    "                                                  ngram_range=(1, 2))\n",
    "\n",
    "# View number of features.\n",
    "print(feature_matrix.shape)"
   ]
  },
  {
   "cell_type": "code",
   "execution_count": 50,
   "metadata": {},
   "outputs": [
    {
     "data": {
      "text/plain": [
       "['able',\n",
       " 'accept',\n",
       " 'across',\n",
       " 'act',\n",
       " 'agree',\n",
       " 'alive',\n",
       " 'allow',\n",
       " 'alone',\n",
       " 'along',\n",
       " 'already',\n",
       " 'also',\n",
       " 'although',\n",
       " 'always',\n",
       " 'another',\n",
       " 'anything',\n",
       " 'apartment',\n",
       " 'appear',\n",
       " 'approach',\n",
       " 'arm',\n",
       " 'army']"
      ]
     },
     "execution_count": 50,
     "metadata": {},
     "output_type": "execute_result"
    }
   ],
   "source": [
    "# Get feature names.\n",
    "feature_names = vectorizer.get_feature_names()\n",
    "feature_names[:20]"
   ]
  },
  {
   "cell_type": "markdown",
   "metadata": {},
   "source": [
    "# K-means Clustering\n",
    "\n",
    "A centroid-based clustering model that tries to cluster data into groups or clusters of equal variance. The criteris or measure that this algorithm tries to minimize is _inertia_, also known as within-cluster sum-of-squares. "
   ]
  },
  {
   "cell_type": "code",
   "execution_count": 53,
   "metadata": {},
   "outputs": [],
   "source": [
    "from sklearn.cluster import KMeans\n",
    "\n",
    "# Define the k-means clustering function.\n",
    "def k_means(feature_matrix, num_clusters=5):\n",
    "    km = KMeans(n_clusters=num_clusters,\n",
    "                max_iter=10_000)\n",
    "    km.fit(feature_matrix)\n",
    "    clusters = km.labels_\n",
    "    return km, clusters"
   ]
  },
  {
   "cell_type": "code",
   "execution_count": 54,
   "metadata": {},
   "outputs": [],
   "source": [
    "# Set k = 5, lets say we want 5 clusters from the 100 movies.\n",
    "num_clusters = 5\n",
    "\n",
    "# Get clusters and assigned the cluster labels to the movies.\n",
    "km_obj, clusters = k_means(feature_matrix=feature_matrix,\n",
    "                           num_clusters=num_clusters)\n",
    "movie_data['Cluster'] = clusters"
   ]
  },
  {
   "cell_type": "code",
   "execution_count": 65,
   "metadata": {},
   "outputs": [
    {
     "data": {
      "text/plain": [
       "dict_items([(0, 35), (4, 36), (1, 17), (3, 7), (2, 5)])"
      ]
     },
     "execution_count": 65,
     "metadata": {},
     "output_type": "execute_result"
    }
   ],
   "source": [
    "from collections import Counter\n",
    "\n",
    "# Get the total number of movies per cluster.\n",
    "c = Counter(clusters)\n",
    "c.items()"
   ]
  },
  {
   "cell_type": "code",
   "execution_count": 66,
   "metadata": {},
   "outputs": [],
   "source": [
    "def get_cluster_data(clustering_obj={}, movie_data=[],\n",
    "                     feature_names=[], num_clusters=3,\n",
    "                     topn_features=10):\n",
    "    cluster_details = {}\n",
    "    \n",
    "    # Get cluster centroids.\n",
    "    ordered_centroids = clustering_obj.cluster_centers_.argsort()[:, ::-1]\n",
    "    \n",
    "    # Get key features for each cluster.\n",
    "    # Get movie belonging to each cluster.\n",
    "    for cluster_num in range(num_clusters):\n",
    "        cluster_details[cluster_num] = {}\n",
    "        cluster_details[cluster_num]['cluster_num'] = cluster_num\n",
    "        key_features = [feature_names[index] for index\n",
    "                        in ordered_centroids[cluster_num, :topn_features]]\n",
    "        cluster_details[cluster_num]['key_features'] = key_features\n",
    "        movies = movie_data[movie_data['Cluster'] == cluster_num]['Title'].values.tolist()\n",
    "        cluster_details[cluster_num]['movies'] = movies\n",
    "        \n",
    "    return cluster_details"
   ]
  },
  {
   "cell_type": "code",
   "execution_count": 67,
   "metadata": {},
   "outputs": [],
   "source": [
    "def print_cluster_data(cluster_data):\n",
    "    # Print cluster details.\n",
    "    for cluster_num, cluster_details in cluster_data.items():\n",
    "        print(f'Cluster {cluster_num} details:')\n",
    "        print('-' * 20)\n",
    "        print(f\"Key features: {cluster_details['key_features']}\")\n",
    "        print('Movies in this cluster:')\n",
    "        print(', '.join(cluster_details['movies']))\n",
    "        print('=' * 40)"
   ]
  },
  {
   "cell_type": "code",
   "execution_count": 75,
   "metadata": {},
   "outputs": [],
   "source": [
    "%matplotlib inline\n",
    "import matplotlib.pyplot as plt\n",
    "from sklearn.manifold import MDS\n",
    "from sklearn.metrics.pairwise import cosine_similarity\n",
    "import random\n",
    "from matplotlib.font_manager import FontProperties\n",
    "\n",
    "def plot_clusters(num_clusters, feature_matrix,\n",
    "                  cluster_data,\n",
    "                  movie_data,\n",
    "                  plot_size=(16, 8)):\n",
    "\n",
    "    # Generate random color for clusters.\n",
    "    def generate_random_color():\n",
    "        color = '#%06x' % random.randint(0, 0xFFFFFF)\n",
    "        return color\n",
    "\n",
    "    # Define markers for clusters.\n",
    "    markers = ['o', 'v', '^', '<', '>', '8', 's', 'p', '*', 'h', 'H', 'D', 'd']\n",
    "    \n",
    "    # Build cosine distance matrix.\n",
    "    cosine_distance = 1 - cosine_similarity(feature_matrix)\n",
    "    \n",
    "    # Dimensionality reduction using MDS.\n",
    "    mds = MDS(n_components=2, dissimilarity='precomputed',\n",
    "              random_state=1)\n",
    "    \n",
    "    # Get coordinates of clusters in a new low-dimensional space.\n",
    "    plot_positions = mds.fit_transform(cosine_distance)\n",
    "    x_pos, y_pos = plot_positions[:, 0], plot_positions[:, 1]\n",
    "    \n",
    "    # Build cluster plotting data.\n",
    "    cluster_color_map = {}\n",
    "    cluster_name_map = {}\n",
    "    \n",
    "    for cluster_num, cluster_details in cluster_data.items():\n",
    "        # Assign cluster features to unique label.\n",
    "        cluster_color_map[cluster_num] = generate_random_color()\n",
    "        cluster_name_map[cluster_num] = ', '.join(cluster_details['key_features'][:5]).strip()\n",
    "    \n",
    "    # Map each unique cluster label with its coordinates and movies.\n",
    "    cluster_plot_frame = pd.DataFrame({'x': x_pos,\n",
    "                                       'y': y_pos,\n",
    "                                       'label': movie_data['Cluster'].values.tolist(),\n",
    "                                       'title': movie_data['Title'].values.tolist()})\n",
    "    \n",
    "    grouped_plot_frame = cluster_plot_frame.groupby('label')\n",
    "    \n",
    "    # Set plot figure size and axes.\n",
    "    fig, ax = plt.subplots(figsize=plot_size)\n",
    "    ax.margins(0.05)\n",
    "    \n",
    "    # Plot each cluster using co-ordinates and movie titles.\n",
    "    for cluster_num, cluster_frame in grouped_plot_frame:\n",
    "        marker = markers[cluster_num] if cluster_num < len(markers) else np.random.choice(markers, size=1)[0]\n",
    "        ax.plot(cluster_frame['x'], cluster_frame['y'], marker=marker, linestyle='', ms=12,\n",
    "                label=cluster_name_map[cluster_num],\n",
    "                color=cluster_color_map[cluster_num], mec='none')\n",
    "        ax.set_aspect('auto')\n",
    "        ax.tick_params(axis='x',\n",
    "                       which='both',\n",
    "                       bottom='off',\n",
    "                       top='off',\n",
    "                       labelbottom='off')\n",
    "        ax.tick_params(axis='y',\n",
    "                       which='both',\n",
    "                       left='off',\n",
    "                       top='off',\n",
    "                       labelleft='off')\n",
    "    fontP = FontProperties()\n",
    "    fontP.set_size('small')\n",
    "    ax.legend(loc='upper center', bbox_to_anchor=(0.5, -0.01), fancybox=True, \n",
    "              shadow=True,\n",
    "              ncol=5,\n",
    "              numpoints=1,\n",
    "              prop=fontP)\n",
    "    \n",
    "    # Add labels as the film titles.\n",
    "    for index in range(len(cluster_plot_frame)):\n",
    "        ax.text(cluster_plot_frame.iloc[index]['x'], \n",
    "                cluster_plot_frame.iloc[index]['y'],\n",
    "                cluster_plot_frame.iloc[index]['title'], size=8)\n",
    "        \n",
    "    # Show the plot.\n",
    "    plt.show()"
   ]
  },
  {
   "cell_type": "code",
   "execution_count": 76,
   "metadata": {},
   "outputs": [
    {
     "name": "stdout",
     "output_type": "stream",
     "text": [
      "Cluster 0 details:\n",
      "--------------------\n",
      "Key features: ['army', 'kill', 'soldier', 'find', 'war']\n",
      "Movies in this cluster:\n",
      "The Godfather, Schindler's List, Raging Bull, Casablanca, Gone with the Wind, Lawrence of Arabia, The Godfather: Part II, Forrest Gump, Star Wars, The Silence of the Lambs, The Bridge on the River Kwai, Dr. Strangelove or: How I Learned to Stop Worrying and Love the Bomb, Apocalypse Now, Gandhi, The Lord of the Rings: The Return of the King, Gladiator, From Here to Eternity, Saving Private Ryan, Raiders of the Lost Ark, The Best Years of Our Lives, Ben-Hur, Doctor Zhivago, Patton, The Good, the Bad and the Ugly, Butch Cassidy and the Sundance Kid, Platoon, Dances with Wolves, The Pianist, The Deer Hunter, All Quiet on the Western Front, Mr. Smith Goes to Washington, The Grapes of Wrath, Network, Stagecoach, Mutiny on the Bounty\n",
      "========================================\n",
      "Cluster 1 details:\n",
      "--------------------\n",
      "Key features: ['love', 'family', 'go', 'make', 'film']\n",
      "Movies in this cluster:\n",
      "Citizen Kane, The Sound of Music, Singin' in the Rain, Amadeus, A Streetcar Named Desire, An American in Paris, The Treasure of the Sierra Madre, Goodfellas, The King's Speech, A Place in the Sun, Midnight Cowboy, Annie Hall, Out of Africa, Terms of Endearment, Giant, Double Indemnity, Yankee Doodle Dandy\n",
      "========================================\n",
      "Cluster 2 details:\n",
      "--------------------\n",
      "Key features: ['father', 'police', 'brother', 'car', 'tell']\n",
      "Movies in this cluster:\n",
      "Braveheart, The Exorcist, It Happened One Night, Rain Man, Rebel Without a Cause\n",
      "========================================\n",
      "Cluster 3 details:\n",
      "--------------------\n",
      "Key features: ['say', 'go', 'town', 'come', 'shoot']\n",
      "Movies in this cluster:\n",
      "2001: A Space Odyssey, It's a Wonderful Life, Unforgiven, To Kill a Mockingbird, My Fair Lady, High Noon, Shane\n",
      "========================================\n",
      "Cluster 4 details:\n",
      "--------------------\n",
      "Key features: ['tell', 'go', 'see', 'get', 'car']\n",
      "Movies in this cluster:\n",
      "The Shawshank Redemption, One Flew Over the Cuckoo's Nest, The Wizard of Oz, Titanic, Psycho, Sunset Blvd., Vertigo, On the Waterfront, West Side Story, E.T. the Extra-Terrestrial, Chinatown, Some Like It Hot, 12 Angry Men, Rocky, The Philadelphia Story, Jaws, The Apartment, The French Connection, City Lights, Good Will Hunting, Tootsie, Fargo, The Green Mile, Close Encounters of the Third Kind, Nashville, The Graduate, American Graffiti, Pulp Fiction, The African Queen, The Maltese Falcon, A Clockwork Orange, Taxi Driver, Wuthering Heights, Rear Window, The Third Man, North by Northwest\n",
      "========================================\n"
     ]
    }
   ],
   "source": [
    "# Get clustering analysis data.\n",
    "cluster_data = get_cluster_data(km_obj, movie_data=movie_data,\n",
    "                                feature_names=feature_names,\n",
    "                                num_clusters=num_clusters,\n",
    "                                topn_features=5)\n",
    "\n",
    "# Print clustering analysis results.\n",
    "print_cluster_data(cluster_data)"
   ]
  },
  {
   "cell_type": "code",
   "execution_count": 77,
   "metadata": {},
   "outputs": [
    {
     "data": {
      "image/png": "[encoded data removed]",
      "text/plain": [
       "<Figure size 1152x576 with 1 Axes>"
      ]
     },
     "metadata": {
      "needs_background": "light"
     },
     "output_type": "display_data"
    }
   ],
   "source": [
    "# Visualize the clusters.\n",
    "plot_clusters(num_clusters=num_clusters,\n",
    "              feature_matrix=feature_matrix,\n",
    "              cluster_data=cluster_data,\n",
    "              movie_data=movie_data,\n",
    "              plot_size=(16, 8))"
   ]
  },
  {
   "cell_type": "markdown",
   "metadata": {},
   "source": [
    "# Affinity Propagation\n",
    "\n",
    "The k-means algorithm has a drawback that the user has to predefine the number of clusters. Some popular methods to determine the optimum k:\n",
    "    - elbow method\n",
    "    - sillhoutte coefficient\n",
    "\n",
    "Affinity propagation algorithm is based on the concept of message passing among the various data points to be clustered, and no pre-assumption is needed about the number of possible clusters.\n",
    "AP creates these clusters from the data points by passing messages between pairs of data points until convergence is achieved."
   ]
  },
  {
   "cell_type": "code",
   "execution_count": null,
   "metadata": {},
   "outputs": [],
   "source": [
    "from sklearn.cluster import AffinityPropagation\n",
    "\n",
    "def affinity_propagation(feature_matrix):\n",
    "    sim = feature_matrix * feature_matrix.T\n",
    "    sim = sim.todense()\n",
    "    ap = AffinityPropagation()\n",
    "    ap.fit(sim)\n",
    "    clusters = ap.labels_\n",
    "    return ap, clusters"
   ]
  }
 ],
 "metadata": {
  "kernelspec": {
   "display_name": "Python 3",
   "language": "python",
   "name": "python3"
  },
  "language_info": {
   "codemirror_mode": {
    "name": "ipython",
    "version": 3
   },
   "file_extension": ".py",
   "mimetype": "text/x-python",
   "name": "python",
   "nbconvert_exporter": "python",
   "pygments_lexer": "ipython3",
   "version": "3.7.5"
  }
 },
 "nbformat": 4,
 "nbformat_minor": 2
}
